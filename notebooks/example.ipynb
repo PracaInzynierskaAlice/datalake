{
 "cells": [
  {
   "cell_type": "code",
   "execution_count": 3,
   "id": "b20fc9a2-2211-492e-b094-f3d0c2736a73",
   "metadata": {},
   "outputs": [],
   "source": [
    "df = spark.read.table(\"nessie.taxis\")"
   ]
  },
  {
   "cell_type": "code",
   "execution_count": 4,
   "id": "6d77ac16-3cfc-4b0a-9433-7a55dbc5ad82",
   "metadata": {},
   "outputs": [
    {
     "name": "stderr",
     "output_type": "stream",
     "text": [
      "                                                                                \r"
     ]
    },
    {
     "name": "stdout",
     "output_type": "stream",
     "text": [
      "+---------+-------+-------------+-----------+------------------+\n",
      "|vendor_id|trip_id|trip_distance|fare_amount|store_and_fwd_flag|\n",
      "+---------+-------+-------------+-----------+------------------+\n",
      "|        1|1000371|          1.8|      15.32|                 N|\n",
      "|        2|1000372|          2.5|      22.15|                 N|\n",
      "|        2|1000373|          0.9|       9.01|                 N|\n",
      "|        1|1000374|          8.4|      42.13|                 Y|\n",
      "+---------+-------+-------------+-----------+------------------+\n",
      "\n"
     ]
    }
   ],
   "source": [
    "df.show()"
   ]
  },
  {
   "cell_type": "code",
   "execution_count": 5,
   "id": "72c5f0b2-a7f1-4a29-b2aa-5ea9981f13d4",
   "metadata": {},
   "outputs": [],
   "source": [
    "url = \"jdbc:postgresql://postgres:5432/mon_data\"\n",
    "\n",
    "properties = {\n",
    "    \"user\": \"mon_user\",\n",
    "    \"password\": \"cern\",\n",
    "    \"driver\": \"org.postgresql.Driver\"\n",
    "}"
   ]
  },
  {
   "cell_type": "code",
   "execution_count": 7,
   "id": "507424b9-0dfd-4137-9dd0-292ae4bb7547",
   "metadata": {},
   "outputs": [],
   "source": [
    "table_name = \"mon_jobs_data_v3\"\n",
    "\n",
    "df = spark.read.jdbc(url, table_name, properties=properties)"
   ]
  },
  {
   "cell_type": "code",
   "execution_count": 8,
   "id": "10e1e566-9e38-49f1-ab75-ee64cad9ff69",
   "metadata": {},
   "outputs": [
    {
     "name": "stderr",
     "output_type": "stream",
     "text": [
      "[Stage 3:>                                                          (0 + 1) / 1]\r"
     ]
    },
    {
     "name": "stdout",
     "output_type": "stream",
     "text": [
      "+-------------+----------+--------------------+----------+-----------------+-----------------+\n",
      "|    timestamp|      farm|             cluster|    job_id|        parameter|            value|\n",
      "+-------------+----------+--------------------+----------+-----------------+-----------------+\n",
      "|1688324701751|Poznan_ARC|ALICE::Poznan::AR...|2882216505|           status|             10.0|\n",
      "|1688324701751|Poznan_ARC|ALICE::Poznan::AR...|2882216505|     masterjob_id|    2.882203822E9|\n",
      "|1688324701751|Poznan_ARC|ALICE::Poznan::AR...|2882216505|         job_user|         alitrain|\n",
      "|1688324701751|Poznan_ARC|ALICE::Poznan::AR...|2882216505|         host_pid|            134.0|\n",
      "|1688324701751|Poznan_ARC|ALICE::Poznan::AR...|2882216505|             host|            e1134|\n",
      "|1688324702924|Poznan_ARC|ALICE::Poznan::AR...|2882216504|           status|             10.0|\n",
      "|1688324702924|Poznan_ARC|ALICE::Poznan::AR...|2882216504|     masterjob_id|    2.882203747E9|\n",
      "|1688324702924|Poznan_ARC|ALICE::Poznan::AR...|2882216504|         job_user|         alitrain|\n",
      "|1688324702924|Poznan_ARC|ALICE::Poznan::AR...|2882216504|         host_pid|            133.0|\n",
      "|1688324702924|Poznan_ARC|ALICE::Poznan::AR...|2882216504|             host|         e1127-ib|\n",
      "|1688324703748|Poznan_ARC|ALICE::Poznan::AR...|2882186894|     workdir_size|     1.1259765625|\n",
      "|1688324703748|Poznan_ARC|ALICE::Poznan::AR...|2882186894|       virtualmem|       1.092602E7|\n",
      "|1688324703748|Poznan_ARC|ALICE::Poznan::AR...|2882186894|          swappss|              0.0|\n",
      "|1688324703748|Poznan_ARC|ALICE::Poznan::AR...|2882186894|         run_time|        12009.971|\n",
      "|1688324703748|Poznan_ARC|ALICE::Poznan::AR...|2882186894|              rss|        1560312.0|\n",
      "|1688324703748|Poznan_ARC|ALICE::Poznan::AR...|2882186894|              pss|        1515139.0|\n",
      "|1688324703748|Poznan_ARC|ALICE::Poznan::AR...|2882186894|       open_files|             53.0|\n",
      "|1688324703748|Poznan_ARC|ALICE::Poznan::AR...|2882186894|        mem_usage|              0.7|\n",
      "|1688324703748|Poznan_ARC|ALICE::Poznan::AR...|2882186894|instant_cpu_usage|96.15023474178405|\n",
      "|1688324703748|Poznan_ARC|ALICE::Poznan::AR...|2882186894|        disk_used|     1.81052504E9|\n",
      "|1688324703748|Poznan_ARC|ALICE::Poznan::AR...|2882186894|       disk_usage|             27.0|\n",
      "|1688324703748|Poznan_ARC|ALICE::Poznan::AR...|2882186894|       disk_total|     6.76679711E9|\n",
      "|1688324703748|Poznan_ARC|ALICE::Poznan::AR...|2882186894|        disk_free|    4.956257431E9|\n",
      "|1688324703748|Poznan_ARC|ALICE::Poznan::AR...|2882186894|        cpu_usage|88.54342779012539|\n",
      "|1688324703748|Poznan_ARC|ALICE::Poznan::AR...|2882186894|         cpu_time|         10634.04|\n",
      "|1688324703965|Poznan_ARC|ALICE::Poznan::AR...|2882221583|     workdir_size|     0.7021484375|\n",
      "|1688324703965|Poznan_ARC|ALICE::Poznan::AR...|2882221583|       virtualmem|       1.058858E7|\n",
      "|1688324703965|Poznan_ARC|ALICE::Poznan::AR...|2882221583|          swappss|              0.0|\n",
      "|1688324703965|Poznan_ARC|ALICE::Poznan::AR...|2882221583|         run_time|         5829.689|\n",
      "|1688324703965|Poznan_ARC|ALICE::Poznan::AR...|2882221583|              rss|        1755956.0|\n",
      "|1688324703965|Poznan_ARC|ALICE::Poznan::AR...|2882221583|              pss|        1708006.0|\n",
      "|1688324703965|Poznan_ARC|ALICE::Poznan::AR...|2882221583|       open_files|             53.0|\n",
      "|1688324703965|Poznan_ARC|ALICE::Poznan::AR...|2882221583|        mem_usage|              0.8|\n",
      "|1688324703965|Poznan_ARC|ALICE::Poznan::AR...|2882221583|instant_cpu_usage|78.04232804232804|\n",
      "|1688324703965|Poznan_ARC|ALICE::Poznan::AR...|2882221583|        disk_used|    1.810527234E9|\n",
      "|1688324703965|Poznan_ARC|ALICE::Poznan::AR...|2882221583|       disk_usage|             27.0|\n",
      "|1688324703965|Poznan_ARC|ALICE::Poznan::AR...|2882221583|       disk_total|    6.766797111E9|\n",
      "|1688324703965|Poznan_ARC|ALICE::Poznan::AR...|2882221583|        disk_free|    4.956255628E9|\n",
      "|1688324703965|Poznan_ARC|ALICE::Poznan::AR...|2882221583|        cpu_usage|86.38076576640708|\n",
      "|1688324703965|Poznan_ARC|ALICE::Poznan::AR...|2882221583|         cpu_time|          5035.73|\n",
      "|1688324704204|Poznan_ARC|ALICE::Poznan::AR...|2882186894|           status|             10.0|\n",
      "|1688324704204|Poznan_ARC|ALICE::Poznan::AR...|2882186894|     masterjob_id|    2.882179505E9|\n",
      "|1688324704204|Poznan_ARC|ALICE::Poznan::AR...|2882186894|         job_user|         alitrain|\n",
      "|1688324704204|Poznan_ARC|ALICE::Poznan::AR...|2882186894|         host_pid|            133.0|\n",
      "|1688324704204|Poznan_ARC|ALICE::Poznan::AR...|2882186894|             host|         e1127-ib|\n",
      "|1688324704657|Poznan_ARC|ALICE::Poznan::AR...|2882213950|     workdir_size|      0.884765625|\n",
      "|1688324704657|Poznan_ARC|ALICE::Poznan::AR...|2882213950|       virtualmem|      1.0534796E7|\n",
      "|1688324704657|Poznan_ARC|ALICE::Poznan::AR...|2882213950|          swappss|              0.0|\n",
      "|1688324704657|Poznan_ARC|ALICE::Poznan::AR...|2882213950|         run_time|        10148.222|\n",
      "|1688324704657|Poznan_ARC|ALICE::Poznan::AR...|2882213950|              rss|        1453804.0|\n",
      "|1688324704657|Poznan_ARC|ALICE::Poznan::AR...|2882213950|              pss|        1413103.0|\n",
      "|1688324704657|Poznan_ARC|ALICE::Poznan::AR...|2882213950|       open_files|             53.0|\n",
      "|1688324704657|Poznan_ARC|ALICE::Poznan::AR...|2882213950|        mem_usage|              0.6|\n",
      "|1688324704657|Poznan_ARC|ALICE::Poznan::AR...|2882213950|instant_cpu_usage|58.35843373493976|\n",
      "|1688324704657|Poznan_ARC|ALICE::Poznan::AR...|2882213950|        disk_used|    1.810527234E9|\n",
      "|1688324704657|Poznan_ARC|ALICE::Poznan::AR...|2882213950|       disk_usage|             27.0|\n",
      "|1688324704657|Poznan_ARC|ALICE::Poznan::AR...|2882213950|       disk_total|    6.766797111E9|\n",
      "|1688324704657|Poznan_ARC|ALICE::Poznan::AR...|2882213950|        disk_free|    4.956255628E9|\n",
      "|1688324704657|Poznan_ARC|ALICE::Poznan::AR...|2882213950|        cpu_usage|90.87877659751629|\n",
      "|1688324704657|Poznan_ARC|ALICE::Poznan::AR...|2882213950|         cpu_time|          9222.58|\n",
      "|1688324706592|Poznan_ARC|ALICE::Poznan::AR...|2882221583|           status|             10.0|\n",
      "|1688324706592|Poznan_ARC|ALICE::Poznan::AR...|2882221583|     masterjob_id|    2.882203743E9|\n",
      "|1688324706592|Poznan_ARC|ALICE::Poznan::AR...|2882221583|         job_user|         alitrain|\n",
      "|1688324706592|Poznan_ARC|ALICE::Poznan::AR...|2882221583|         host_pid|            133.0|\n",
      "|1688324706592|Poznan_ARC|ALICE::Poznan::AR...|2882221583|             host|         e1125-ib|\n",
      "|1688324707959|Poznan_ARC|ALICE::Poznan::AR...|2882186893|     workdir_size|     1.0869140625|\n",
      "|1688324707959|Poznan_ARC|ALICE::Poznan::AR...|2882186893|       virtualmem|       1.151786E7|\n",
      "|1688324707959|Poznan_ARC|ALICE::Poznan::AR...|2882186893|          swappss|              0.0|\n",
      "|1688324707959|Poznan_ARC|ALICE::Poznan::AR...|2882186893|         run_time|        13027.078|\n",
      "|1688324707959|Poznan_ARC|ALICE::Poznan::AR...|2882186893|              rss|        1719560.0|\n",
      "|1688324707959|Poznan_ARC|ALICE::Poznan::AR...|2882186893|              pss|        1670126.0|\n",
      "|1688324707959|Poznan_ARC|ALICE::Poznan::AR...|2882186893|       open_files|             53.0|\n",
      "|1688324707959|Poznan_ARC|ALICE::Poznan::AR...|2882186893|        mem_usage|              0.7|\n",
      "|1688324707959|Poznan_ARC|ALICE::Poznan::AR...|2882186893|instant_cpu_usage|98.10186055252773|\n",
      "|1688324707959|Poznan_ARC|ALICE::Poznan::AR...|2882186893|        disk_used|    1.810525455E9|\n",
      "|1688324707959|Poznan_ARC|ALICE::Poznan::AR...|2882186893|       disk_usage|             27.0|\n",
      "|1688324707959|Poznan_ARC|ALICE::Poznan::AR...|2882186893|       disk_total|    6.766797124E9|\n",
      "|1688324707959|Poznan_ARC|ALICE::Poznan::AR...|2882186893|        disk_free|     4.95625799E9|\n",
      "|1688324707959|Poznan_ARC|ALICE::Poznan::AR...|2882186893|        cpu_usage|91.52866053308348|\n",
      "|1688324707959|Poznan_ARC|ALICE::Poznan::AR...|2882186893|         cpu_time|         11923.51|\n",
      "|1688324707988|Poznan_ARC|ALICE::Poznan::AR...|2882213950|           status|             10.0|\n",
      "|1688324707988|Poznan_ARC|ALICE::Poznan::AR...|2882213950|     masterjob_id|    2.882203742E9|\n",
      "|1688324707988|Poznan_ARC|ALICE::Poznan::AR...|2882213950|         job_user|         alitrain|\n",
      "|1688324707988|Poznan_ARC|ALICE::Poznan::AR...|2882213950|         host_pid|            133.0|\n",
      "|1688324707988|Poznan_ARC|ALICE::Poznan::AR...|2882213950|             host|            e1145|\n",
      "|1688324708024|Poznan_ARC|ALICE::Poznan::AR...|2882182954|     workdir_size|       1.18359375|\n",
      "|1688324708024|Poznan_ARC|ALICE::Poznan::AR...|2882182954|       virtualmem|       1.145338E7|\n",
      "|1688324708024|Poznan_ARC|ALICE::Poznan::AR...|2882182954|          swappss|              0.0|\n",
      "|1688324708024|Poznan_ARC|ALICE::Poznan::AR...|2882182954|         run_time|        15128.895|\n",
      "|1688324708024|Poznan_ARC|ALICE::Poznan::AR...|2882182954|              rss|        1697144.0|\n",
      "|1688324708024|Poznan_ARC|ALICE::Poznan::AR...|2882182954|              pss|        1653067.0|\n",
      "|1688324708024|Poznan_ARC|ALICE::Poznan::AR...|2882182954|       open_files|             53.0|\n",
      "|1688324708024|Poznan_ARC|ALICE::Poznan::AR...|2882182954|        mem_usage|              0.7|\n",
      "|1688324708024|Poznan_ARC|ALICE::Poznan::AR...|2882182954|instant_cpu_usage|97.73156899810964|\n",
      "|1688324708024|Poznan_ARC|ALICE::Poznan::AR...|2882182954|        disk_used|    1.810524622E9|\n",
      "|1688324708024|Poznan_ARC|ALICE::Poznan::AR...|2882182954|       disk_usage|             27.0|\n",
      "|1688324708024|Poznan_ARC|ALICE::Poznan::AR...|2882182954|       disk_total|     6.76679712E9|\n",
      "|1688324708024|Poznan_ARC|ALICE::Poznan::AR...|2882182954|        disk_free|    4.956257493E9|\n",
      "|1688324708024|Poznan_ARC|ALICE::Poznan::AR...|2882182954|        cpu_usage|87.80191811761533|\n",
      "|1688324708024|Poznan_ARC|ALICE::Poznan::AR...|2882182954|         cpu_time|         13283.46|\n",
      "+-------------+----------+--------------------+----------+-----------------+-----------------+\n",
      "only showing top 100 rows\n",
      "\n"
     ]
    },
    {
     "name": "stderr",
     "output_type": "stream",
     "text": [
      "                                                                                \r"
     ]
    }
   ],
   "source": [
    "df.show(100)"
   ]
  },
  {
   "cell_type": "code",
   "execution_count": 9,
   "id": "976e2742-f8a5-4f50-b92e-373626ccb920",
   "metadata": {},
   "outputs": [
    {
     "name": "stderr",
     "output_type": "stream",
     "text": [
      "                                                                                \r"
     ]
    }
   ],
   "source": [
    "df.writeTo(\"nessie.mon_jobs_data_v3\").create()"
   ]
  }
 ],
 "metadata": {
  "kernelspec": {
   "display_name": "Python 3 (ipykernel)",
   "language": "python",
   "name": "python3"
  },
  "language_info": {
   "codemirror_mode": {
    "name": "ipython",
    "version": 3
   },
   "file_extension": ".py",
   "mimetype": "text/x-python",
   "name": "python",
   "nbconvert_exporter": "python",
   "pygments_lexer": "ipython3",
   "version": "3.9.17"
  }
 },
 "nbformat": 4,
 "nbformat_minor": 5
}
