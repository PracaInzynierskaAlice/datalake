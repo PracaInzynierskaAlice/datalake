{
 "cells": [
  {
   "cell_type": "code",
   "execution_count": null,
   "metadata": {},
   "outputs": [],
   "source": [
    "from pyspark.sql import SparkSession\n",
    "from pyspark.sql import functions\n",
    "\n",
    "spark = SparkSession.builder.master(\"k8s://https://kubernetes.default.svc.cluster.local:443\") \\\n",
    "                            .appName(\"spark\")\\\n",
    "                            .config(\"spark.executor.instances\", 3)\\\n",
    "                            .config(\"spark.submit.deployMode\", \"client\")\\\n",
    "                            .config(\"spark.driver.host\", \"spark-master\")\\\n",
    "                            .config(\"spark.driver.port\", \"8002\")\\\n",
    "                            .config(\"spark.driver.extraClassPath\", \"local://opt/spark/jars/postgresql-42.6.0.jar\") \\\n",
    "                            .config(\"spark.blockManager.port\", \"8001\")\\\n",
    "                            .config(\"spark.kubernetes.namespace\", \"default\")\\\n",
    "                            .config(\"spark.kubernetes.container.image\", \"spark-executor\")\\\n",
    "                            .config(\"spark.kubernetes.container.image.pullPolicy\", \"Never\")\\\n",
    "                            .config(\"spark.kubernetes.authenticate.driver.serviceAccountName\", \"spark\")\\\n",
    "                            .config(\"spark.kubernetes.authenticate.executor.serviceAccountName\", \"spark\")\\\n",
    "                            .getOrCreate()"
   ]
  },
  {
   "cell_type": "code",
   "execution_count": null,
   "metadata": {},
   "outputs": [],
   "source": [
    "url = \"jdbc:postgresql://postgres:5432/mon_data\"\n",
    "\n",
    "properties = {\n",
    "    \"user\": \"mon_user\",\n",
    "    \"password\": \"cern\",\n",
    "    \"driver\": \"org.postgresql.Driver\"\n",
    "}\n",
    "\n",
    "table_name = \"mon_jobs_data_v3\"\n",
    "\n",
    "df = spark.read.jdbc(url, table_name, properties=properties)"
   ]
  },
  {
   "cell_type": "code",
   "execution_count": null,
   "metadata": {},
   "outputs": [],
   "source": [
    "spark.stop()"
   ]
  }
 ],
 "metadata": {
  "language_info": {
   "name": "python"
  }
 },
 "nbformat": 4,
 "nbformat_minor": 2
}
